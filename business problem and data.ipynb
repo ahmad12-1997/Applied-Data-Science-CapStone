{
  "nbformat": 4,
  "nbformat_minor": 0,
  "metadata": {
    "colab": {
      "name": "Untitled11.ipynb",
      "provenance": []
    },
    "kernelspec": {
      "name": "python3",
      "display_name": "Python 3"
    },
    "language_info": {
      "name": "python"
    }
  },
  "cells": [
    {
      "cell_type": "markdown",
      "metadata": {
        "id": "3MHDVkqREyfv"
      },
      "source": [
        "Since the first of january 2021, I have been working to achieve an IBM Data Science Professional certification. The course teaches what it means to be a data scientist, and the tools that you need to succeed in this field.The classes included Python programming, SQL databases, machine learning, statistics, and more.  As a Capstone for the certification, students are required to define a business problem and pull data from the web and location data from Foursquare to solve it. This post details my process for determining the best spot in Dubai to open a Fast Food Restaurant, from problem statement to data preparation to analysis to recommendations. Detailed code for this project is located on GitHub and can be found at the end of this post."
      ]
    },
    {
      "cell_type": "markdown",
      "metadata": {
        "id": "pbc9L_iQG2Ei"
      },
      "source": [
        "# <h1>1- Introduction</h1>"
      ]
    },
    {
      "cell_type": "markdown",
      "metadata": {
        "id": "gX__5_JMIAcY"
      },
      "source": [
        "## <h2>1.1- Business Problem</h2>"
      ]
    },
    {
      "cell_type": "markdown",
      "metadata": {
        "id": "oTGY6IcnJeBh"
      },
      "source": [
        "Food is a lucrative business industry and the Middle East is the hub of delicious culinary delights from all over the world.\n",
        "Now adays with covid-19 presence,Fast-food restaurants has proven to provid safe and quick meals to people on the go and offer an alternative to traditional, sit-down restaurants. \n",
        "Imagine you have open a fast food restaurant  or a food truck whether its Western fast food style  where you serve burger and drinks or its a middle eastern style where you sell shawarma,falafel and other sandwiches in Dubai 'the expensive city' ,\n",
        "With following the food code of UAE and choosing right place, This business will be so profitable  as it provides tasty food in a quick, low-cost manner.\n",
        "\n",
        "Before opening a fast-food restaurant in , however, research the xity and determine if your fast-food business has enough potential demand from the population.So what factors should you analyze to determine the best place in the city to start your fast food restuarant, and how do you do it? This report outlines some basic assumptions, data sets, and analysis that can inform your decision when selecting the optimal neighborhood in Dubai for opening a Fast Food restaurant or your food truck.\n",
        "\n"
      ]
    },
    {
      "cell_type": "markdown",
      "metadata": {
        "id": "Xm7NHb1hJh5h"
      },
      "source": [
        "<h1>1.2- Target Audience </h1>"
      ]
    },
    {
      "cell_type": "markdown",
      "metadata": {
        "id": "jaJqHIevN38C"
      },
      "source": [
        "The target audience of this report would be anyone who wants to buy or build a fast food restaurant or fast food in Dubai.\n",
        "\n",
        "\n"
      ]
    },
    {
      "cell_type": "markdown",
      "metadata": {
        "id": "I8lqAcLbOOoL"
      },
      "source": [
        "<h1>2- Data</h1>"
      ]
    },
    {
      "cell_type": "markdown",
      "metadata": {
        "id": "ZpeqKfsCO9Di"
      },
      "source": [
        "The dataset that I used in this project is of Dubai scrapped from Wikipedia. This dataset contains the list of 131 communities of Dubai.\n",
        "\n",
        "Data source:\n",
        "\n",
        "https://en.wikipedia.org/wiki/List_of_communities_in_Dubai\n",
        "\n",
        "I scrapped the data from the table of Wikipedia using a python library called ‘Beautiful soup’. We will use only 4 columns of the dataset i.e. Community Number, Community (English) and Community (Arabic) for venue analysis of Dubai and the population density column.\n",
        "I used ‘geopy’ library to find the latitude and longitude of each community. And then by using foursquare API I found the venues in each community and and I will cluster those communities \n",
        "depend on the most 10 famous venues categories in thoose areas."
      ]
    },
    {
      "cell_type": "code",
      "metadata": {
        "id": "0uyKverrOM0d"
      },
      "source": [
        ""
      ],
      "execution_count": null,
      "outputs": []
    }
  ]
}